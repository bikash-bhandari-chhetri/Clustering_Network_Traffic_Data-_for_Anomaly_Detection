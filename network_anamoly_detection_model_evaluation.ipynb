{
  "nbformat": 4,
  "nbformat_minor": 0,
  "metadata": {
    "colab": {
      "provenance": []
    },
    "kernelspec": {
      "name": "python3",
      "display_name": "Python 3"
    },
    "language_info": {
      "name": "python"
    }
  },
  "cells": [
    {
      "cell_type": "code",
      "execution_count": null,
      "metadata": {
        "id": "r3yjnqH7uIQB"
      },
      "outputs": [],
      "source": [
        "import pandas as pd\n",
        "import matplotlib.pyplot as plt\n",
        "from sklearn.metrics import davies_bouldin_score"
      ]
    },
    {
      "cell_type": "code",
      "source": [
        "# Load Kmeans and DBSCAN clustered data from a CSV file.\n",
        "\n",
        "kmeans_clustered_data = pd.read_csv('/content/kmeans_clustered_data.csv')\n",
        "dbscan_clustered_data = pd.read_csv('/content/dbscan_clustered_data.csv')\n",
        "\n",
        "print(kmeans_clustered_data)\n",
        "print(dbscan_clustered_data)"
      ],
      "metadata": {
        "colab": {
          "base_uri": "https://localhost:8080/"
        },
        "id": "MkZXBSVv4yqN",
        "outputId": "31af2c26-a3f1-4400-a4a5-5216255d8d47"
      },
      "execution_count": null,
      "outputs": [
        {
          "output_type": "stream",
          "name": "stdout",
          "text": [
            "        SourceIP  DestinationIP  SourcePort  DestinationPort  Protocol  \\\n",
            "0       0.496714      -0.138264    0.647689         1.523030 -0.234153   \n",
            "1      -0.463418      -0.465730    0.241962        -1.913280 -1.724918   \n",
            "2       1.465649      -0.225776    0.067528        -1.424748 -0.544383   \n",
            "3      -0.601707       1.852278   -0.013497        -1.057711  0.822545   \n",
            "4       0.738467       0.171368   -0.115648        -0.301104 -1.478522   \n",
            "...          ...            ...         ...              ...       ...   \n",
            "999995  0.002725      -0.638022    0.840857         1.306959 -0.992010   \n",
            "999996 -0.830555      -0.545716   -1.130178         0.021732 -0.565860   \n",
            "999997  0.047510      -1.310967    0.173328        -1.367077  1.003435   \n",
            "999998 -0.242768      -0.893310   -0.197664        -1.316390 -0.047899   \n",
            "999999  0.702928      -0.506723   -0.927974        -0.190821 -0.037183   \n",
            "\n",
            "        BytesSent  BytesReceived  PacketsSent  PacketsReceived  Duration  \\\n",
            "0       -0.234137       1.579213     0.767435        -0.469474  0.542560   \n",
            "1       -0.562288      -1.012831     0.314247        -0.908024 -1.412304   \n",
            "2        0.110923      -1.150994     0.375698        -0.600639 -0.291694   \n",
            "3       -1.220844       0.208864    -1.959670        -1.328186  0.196861   \n",
            "4       -0.719844      -0.460639     1.057122         0.343618 -1.763040   \n",
            "...           ...            ...          ...              ...       ...   \n",
            "999995  -0.210795       0.226693     0.948210         0.815519  0.240544   \n",
            "999996   1.438171       0.621305    -1.768177         1.461799 -0.668388   \n",
            "999997  -0.202177      -0.112733    -0.206338         0.086761 -1.954908   \n",
            "999998  -0.161381      -0.682240    -0.011741         0.684703 -0.019483   \n",
            "999999   0.626149      -0.585013     1.466957         0.644408  0.923612   \n",
            "\n",
            "        KMeans_Cluster  \n",
            "0                    3  \n",
            "1                   19  \n",
            "2                   19  \n",
            "3                   16  \n",
            "4                   19  \n",
            "...                ...  \n",
            "999995               3  \n",
            "999996               1  \n",
            "999997               1  \n",
            "999998               1  \n",
            "999999              19  \n",
            "\n",
            "[1000000 rows x 11 columns]\n",
            "        SourceIP  DestinationIP  SourcePort  DestinationPort  Protocol  \\\n",
            "0       0.496714      -0.138264    0.647689         1.523030 -0.234153   \n",
            "1      -0.463418      -0.465730    0.241962        -1.913280 -1.724918   \n",
            "2       1.465649      -0.225776    0.067528        -1.424748 -0.544383   \n",
            "3      -0.601707       1.852278   -0.013497        -1.057711  0.822545   \n",
            "4       0.738467       0.171368   -0.115648        -0.301104 -1.478522   \n",
            "...          ...            ...         ...              ...       ...   \n",
            "777181 -0.464555       0.293702   -2.577440        -0.870566 -1.144649   \n",
            "777182 -0.926091      -0.144859   -0.806607        -0.540566 -1.434923   \n",
            "777183  1.241302       1.621717    1.441108         0.315583  0.390029   \n",
            "777184  0.216020       1.721128    0.466780         0.815554  2.812837   \n",
            "777185 -1.514142      -0.075799    0.191592        -1.045758 -0.824452   \n",
            "\n",
            "        BytesSent  BytesReceived  PacketsSent  PacketsReceived  Duration  \\\n",
            "0       -0.234137       1.579213     0.767435        -0.469474  0.542560   \n",
            "1       -0.562288      -1.012831     0.314247        -0.908024 -1.412304   \n",
            "2        0.110923      -1.150994     0.375698        -0.600639 -0.291694   \n",
            "3       -1.220844       0.208864    -1.959670        -1.328186  0.196861   \n",
            "4       -0.719844      -0.460639     1.057122         0.343618 -1.763040   \n",
            "...           ...            ...          ...              ...       ...   \n",
            "777181   2.046152       0.308274     0.475824        -0.833009 -0.890319   \n",
            "777182  -1.174033       0.521779     0.652676         2.715838 -0.296689   \n",
            "777183  -0.271153      -0.833095    -0.594180         1.026931  0.678680   \n",
            "777184  -0.152696      -0.032988     0.547649         1.840334  0.079655   \n",
            "777185  -0.916677      -0.121723     0.011688        -0.030159 -0.000000   \n",
            "\n",
            "        DBSCAN_Cluster  \n",
            "0                    0  \n",
            "1                    0  \n",
            "2                    0  \n",
            "3                    0  \n",
            "4                    0  \n",
            "...                ...  \n",
            "777181               0  \n",
            "777182               0  \n",
            "777183               0  \n",
            "777184              -1  \n",
            "777185               0  \n",
            "\n",
            "[777186 rows x 11 columns]\n"
          ]
        }
      ]
    },
    {
      "cell_type": "code",
      "source": [
        "# Evaluate K-Means clustering using Davies Bouldin score.\n",
        "def evaluate_kmeans(df):\n",
        "    try:\n",
        "        score = davies_bouldin_score(df.drop(['KMeans_Cluster'], axis=1), df['KMeans_Cluster'])\n",
        "        print(f\"Davies Bouldin Score for K-Means: {score}\")\n",
        "    except Exception as e:\n",
        "        print(f\"Error in evaluating K-Means: {e}\")"
      ],
      "metadata": {
        "id": "A4uCPxef5eWK"
      },
      "execution_count": null,
      "outputs": []
    },
    {
      "cell_type": "code",
      "source": [
        "# Evaluate DBSCAN clustering using Davies Bouldin score.\n",
        "def evaluate_dbscan(df):\n",
        "    try:\n",
        "        # Filter out noise points labeled as -1\n",
        "        df_filtered = df[df['DBSCAN_Cluster'] != -1]\n",
        "        score = davies_bouldin_score(df_filtered.drop(['DBSCAN_Cluster'], axis=1), df_filtered['DBSCAN_Cluster'])\n",
        "        print(f\"Silhouette Score for DBSCAN (excluding noise): {score}\")\n",
        "    except Exception as e:\n",
        "        print(f\"Error in evaluating DBSCAN: {e}\")"
      ],
      "metadata": {
        "id": "BHXgl4tJ7ekm"
      },
      "execution_count": null,
      "outputs": []
    },
    {
      "cell_type": "code",
      "source": [
        "# Evaluate KMeans\n",
        "evaluate_kmeans(kmeans_clustered_data)\n",
        "\n",
        "# Evaluate DBSCAN\n",
        "evaluate_dbscan(dbscan_clustered_data)"
      ],
      "metadata": {
        "colab": {
          "base_uri": "https://localhost:8080/"
        },
        "id": "GaN6reZF7uhU",
        "outputId": "23851db4-8768-435e-b166-17a9c5c06d90"
      },
      "execution_count": null,
      "outputs": [
        {
          "output_type": "stream",
          "name": "stdout",
          "text": [
            "Davies Bouldin Score for K-Means: 1.873421802568905\n",
            "Silhouette Score for DBSCAN (excluding noise): 0.9536431583377657\n"
          ]
        }
      ]
    }
  ]
}